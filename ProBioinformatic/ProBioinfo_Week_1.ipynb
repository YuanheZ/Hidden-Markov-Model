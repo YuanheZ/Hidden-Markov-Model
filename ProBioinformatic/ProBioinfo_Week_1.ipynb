{
  "nbformat": 4,
  "nbformat_minor": 0,
  "metadata": {
    "colab": {
      "name": "ProBioinfo_Week_1.ipynb",
      "provenance": [],
      "collapsed_sections": [],
      "authorship_tag": "ABX9TyOP1zyYscrrETGsA42fqUUG",
      "include_colab_link": true
    },
    "kernelspec": {
      "name": "python3",
      "display_name": "Python 3"
    },
    "language_info": {
      "name": "python"
    }
  },
  "cells": [
    {
      "cell_type": "markdown",
      "metadata": {
        "id": "view-in-github",
        "colab_type": "text"
      },
      "source": [
        "<a href=\"https://colab.research.google.com/github/YuanheZ/Hidden-Markov-Model/blob/main/ProBioinformatic/ProBioinfo_Week_1.ipynb\" target=\"_parent\"><img src=\"https://colab.research.google.com/assets/colab-badge.svg\" alt=\"Open In Colab\"/></a>"
      ]
    },
    {
      "cell_type": "markdown",
      "source": [
        "#**Week 1**"
      ],
      "metadata": {
        "id": "f54D_05OB_BY"
      }
    },
    {
      "cell_type": "markdown",
      "source": [
        "###**2. Strings and Console Output**"
      ],
      "metadata": {
        "id": "SJ6vKPatFCJ7"
      }
    },
    {
      "cell_type": "code",
      "source": [
        "string_name = \"abcdefg\"\n",
        "#length of string\n",
        "len(string_name)\n",
        "#transfer to string\n",
        "str()\n",
        "#transform to upper notion\n",
        "string_name.upper()\n",
        "#transfer to lower notion\n",
        "string_name.lower()\n",
        "# .lower()/.upper() as dot notion only work for string but len()/str() can work for other data types\n",
        "# String Concatenation\n",
        "print (\"Spam\" + \"and\" + \"eggs\")\n",
        "#When you want to print a variable with a string, there is a better method than concatenating strings together.\n",
        "#String Formatting with %\n",
        "name = \"Mike\"\n",
        "print (\"Hello %s\" % (name))\n",
        "#0 means pad with zero\n",
        "#2 means 2 characters wide\n",
        "#d means the number is a signed integer\n",
        "day = 6\n",
        "print (\"03 - %s - 2019\" %  (day))\n",
        "# 03 - 6 - 2019\n",
        "print (\"03 - %02d - 2019\" % (day))\n",
        "# 03 - 06 - 2019\n",
        "\n",
        "#Formitting in order\n",
        "name = \"Alex\"\n",
        "quest = \"Teaching Python\"\n",
        "color = \"Blue\"\n",
        "print (\"Ah, so your name is %s, your quest is %s, and your favorite color is %s.\" % (name, quest, color))\n",
        "#The datetime Library\n",
        "#Getting the Current Date and Time\n",
        "from datetime import datetime\n",
        "now = datetime.now()\n",
        "print (now)\n",
        "#Extracting Information\n",
        "#Getting exact info\n",
        "print (now.year)\n",
        "print (now.month)\n",
        "print (now.day)\n",
        "#Format printing xx/xx/xxxx and xx:xx:xx\n",
        "from datetime import datetime\n",
        "now = datetime.now()\n",
        "print (\"%02d/%02d/%04d\" % (now.month, now.day, now.year))\n",
        "print (\"%02d:%02d:%02d\" % (now.hour, now.minute, now.second))"
      ],
      "metadata": {
        "colab": {
          "base_uri": "https://localhost:8080/"
        },
        "id": "DlwYy92VFLjJ",
        "outputId": "595bdb37-04f1-4a70-e4c6-a1370aaaecc7"
      },
      "execution_count": null,
      "outputs": [
        {
          "output_type": "stream",
          "name": "stdout",
          "text": [
            "Spamandeggs\n",
            "Hello Mike\n",
            "03 - 6 - 2019\n",
            "03 - 06 - 2019\n",
            "Ah, so your name is Alex, your quest is Teaching Python, and your favorite color is Blue.\n",
            "2022-06-18 04:39:11.016190\n",
            "2022\n",
            "6\n",
            "18\n",
            "06/18/2022\n",
            "04:39:11\n"
          ]
        }
      ]
    },
    {
      "cell_type": "markdown",
      "source": [
        "###**3. Conditionals & Control Flow**"
      ],
      "metadata": {
        "id": "6Qco_R0uHCrU"
      }
    },
    {
      "cell_type": "code",
      "source": [
        "# != not equal\n",
        "# == equal\n",
        "#Boolean Operators as pic below\n",
        "#Boolean operators aren’t just evaluated from left to right. Just like with arithmetic operators, there’s an order of operations for boolean operators\n",
        "#Order: 1.not 2.and 3.or\n",
        "#Parentheses () ensure your expressions are evaluated in the order you want. Anything in parentheses is evaluated as its own unit.\n",
        "#Simple if/elif/else loop\n",
        "def greater_less_equal_5(answer):\n",
        "    if answer > 5:\n",
        "        return 1\n",
        "    elif answer < 5:          \n",
        "        return -1\n",
        "    else:\n",
        "        return 0\n",
        "        \n",
        "print (greater_less_equal_5(4))\n",
        "print (greater_less_equal_5(5))\n",
        "print (greater_less_equal_5(6))\n",
        "#Check non-empty and whether contains non-letter characters\n",
        "print (\"Welcome to the Pig Latin Translator!\")\n",
        "original = str(input(\"Enter a word: \"))\n",
        "if len(original) > 0 and original.isalpha():\n",
        "  print (original)\n",
        "else:\n",
        "  print (\"empty or non-letter contain\")"
      ],
      "metadata": {
        "colab": {
          "base_uri": "https://localhost:8080/"
        },
        "id": "5pGWwc_mHB-L",
        "outputId": "c4f1ab09-d0fa-43dc-ecd3-0090be5b4438"
      },
      "execution_count": null,
      "outputs": [
        {
          "output_type": "stream",
          "name": "stdout",
          "text": [
            "-1\n",
            "0\n",
            "1\n",
            "Welcome to the Pig Latin Translator!\n",
            "Enter a word: Piggy\n",
            "Piggy\n"
          ]
        }
      ]
    },
    {
      "cell_type": "markdown",
      "source": [
        "####**3.1** project: pig translator"
      ],
      "metadata": {
        "id": "yW1J-30wH7d1"
      }
    },
    {
      "cell_type": "code",
      "source": [
        "#Pig translator\n",
        "print (\"Welcome to the Pig Latin Translator!\")\n",
        "\n",
        "pyg = \"ay\"\n",
        "\n",
        "original = str(input(\"Enter a word:\"))\n",
        "\n",
        "if len(original) > 0 and original.isalpha():\n",
        "  print(original)\n",
        "else:\n",
        "  print(\"empty\")\n",
        "\n",
        "word = original.lower()\n",
        "first = word[0]\n",
        "new_word = first + word[1:len(word)] + pyg\n",
        "print(new_word)"
      ],
      "metadata": {
        "colab": {
          "base_uri": "https://localhost:8080/"
        },
        "id": "wXh7P2L1CjAM",
        "outputId": "342c75e1-d1f8-4255-8b35-03c96d8302ea"
      },
      "execution_count": null,
      "outputs": [
        {
          "output_type": "stream",
          "name": "stdout",
          "text": [
            "Welcome to the Pig Latin Translator!\n",
            "Enter a word:Qu\n",
            "Qu\n",
            "quay\n"
          ]
        }
      ]
    },
    {
      "cell_type": "markdown",
      "source": [
        "###**4. Functions**"
      ],
      "metadata": {
        "id": "HOS_ecocbF8O"
      }
    },
    {
      "cell_type": "code",
      "source": [
        "#Functions Calling Functions\n",
        "def one_good_turn(n):\n",
        "  return n + 1\n",
        "    \n",
        "def deserves_another(n):\n",
        "  return one_good_turn(n) + 2\n",
        "\n",
        "#When using functions, directly call it instead of print\n",
        "deserves_another(7)\n",
        "\n",
        "#Another example\n",
        "def cube(number):\n",
        "  return number**3\n",
        "\n",
        "def by_three(number):\n",
        "  if number%3 == 0:\n",
        "    return cube(number)\n",
        "  else:\n",
        "    return False\n",
        "\n",
        "#import\n",
        "import math\n",
        "print(math.sqrt(25))\n",
        "#Specialized import the we can directly call the function\n",
        "from math import sqrt\n",
        "print(sqrt(25))\n",
        "#import universal(all) specialized(which we can use directly) functions from import\n",
        "#But maybe this is not a good idea because too many function or variable name may cause coincide\n",
        "from math import *\n",
        "#So we can have a check\n",
        "import math # Imports the math module\n",
        "everything = dir(math) # Sets everything to a list of things from math\n",
        "print (everything) # Prints 'em all!\n",
        "\n",
        "#Check type for the data\n",
        "print (type(42))\n",
        "print (type(4.2))\n",
        "print (type(\"spam\"))\n",
        "\n",
        "#max,min,abs\n",
        "def biggest_number(*args):\n",
        "  print (max(args))\n",
        "  return max(args)\n",
        "    \n",
        "def smallest_number(*args):\n",
        "  print (min(args))\n",
        "  return min(args)\n",
        "\n",
        "def distance_from_zero(arg):\n",
        "  print (abs(arg))\n",
        "  return abs(arg)\n",
        "\n",
        "biggest_number(-10, -5, 5, 10)\n",
        "smallest_number(-10, -5, 5, 10)\n",
        "distance_from_zero(-10)\n",
        "\n",
        "#Example\n",
        "def distance_from_zero(args):\n",
        "  if type(args) == int or type(args) == float:\n",
        "    return abs(args)\n",
        "  else:\n",
        "    return \"Nope\"\n",
        "    "
      ],
      "metadata": {
        "colab": {
          "base_uri": "https://localhost:8080/"
        },
        "id": "QuukhuYKMNoS",
        "outputId": "1b26b34d-b656-4480-87e2-77d5b2cad14e"
      },
      "execution_count": null,
      "outputs": [
        {
          "output_type": "stream",
          "name": "stdout",
          "text": [
            "5.0\n",
            "5.0\n",
            "['__doc__', '__loader__', '__name__', '__package__', '__spec__', 'acos', 'acosh', 'asin', 'asinh', 'atan', 'atan2', 'atanh', 'ceil', 'copysign', 'cos', 'cosh', 'degrees', 'e', 'erf', 'erfc', 'exp', 'expm1', 'fabs', 'factorial', 'floor', 'fmod', 'frexp', 'fsum', 'gamma', 'gcd', 'hypot', 'inf', 'isclose', 'isfinite', 'isinf', 'isnan', 'ldexp', 'lgamma', 'log', 'log10', 'log1p', 'log2', 'modf', 'nan', 'pi', 'pow', 'radians', 'remainder', 'sin', 'sinh', 'sqrt', 'tan', 'tanh', 'tau', 'trunc']\n",
            "<class 'int'>\n",
            "<class 'float'>\n",
            "<class 'str'>\n",
            "10\n",
            "-10\n",
            "10\n"
          ]
        }
      ]
    },
    {
      "cell_type": "markdown",
      "source": [
        "####**4.1** project: Taking a vacation"
      ],
      "metadata": {
        "id": "C5HJnWIOae-o"
      }
    },
    {
      "cell_type": "code",
      "source": [
        "def hotel_cost(nights):\n",
        "  return 140 * nights\n",
        "\n",
        "def plane_ride_cost(city):\n",
        "  if city == \"Charlotte\":\n",
        "    return 183\n",
        "  elif city == \"Tampa\":\n",
        "    return 220\n",
        "  elif city == \"Pittsburgh\":\n",
        "    return 222\n",
        "  elif city == \"Los Angeles\":\n",
        "    return 475\n",
        "\n",
        "def rental_car_cost(days):\n",
        "  cost = days * 40\n",
        "  if days >= 7:\n",
        "    cost -= 50\n",
        "  elif days >= 3:\n",
        "    cost -= 20\n",
        "  return cost\n",
        "\n",
        "def trip_cost(city, days,spending_money):\n",
        "  return rental_car_cost(days) + hotel_cost(days - 1) + plane_ride_cost(city) + spending_money\n",
        "\n",
        "\n",
        "trip_cost(\"Los Angeles\",5,600)"
      ],
      "metadata": {
        "colab": {
          "base_uri": "https://localhost:8080/"
        },
        "id": "aGEeuhIzVYfD",
        "outputId": "8a30b74d-95bc-4b43-85e5-3557684be077"
      },
      "execution_count": null,
      "outputs": [
        {
          "output_type": "execute_result",
          "data": {
            "text/plain": [
              "1815"
            ]
          },
          "metadata": {},
          "execution_count": 21
        }
      ]
    },
    {
      "cell_type": "markdown",
      "source": [
        "<img src='https://drive.google.com/uc?id=1F1tZeu6aO029oZ1yKexa0uWBt5MJUSqn' width=\"600\"/>"
      ],
      "metadata": {
        "id": "-gnC-GqeaTlc"
      }
    },
    {
      "cell_type": "markdown",
      "source": [
        "###**5. Lists and Dictionaries**"
      ],
      "metadata": {
        "id": "PWaRLRk7ayGM"
      }
    },
    {
      "cell_type": "code",
      "source": [
        "#Introduction to lists\n",
        "zoo_animals = [\"pangolin\", \"cassowary\", \"sloth\",\"cat\" ];\n",
        "if len(zoo_animals) > 3:\n",
        "  print (\"The first animal at the zoo is the \" + zoo_animals[0])\n",
        "  print (\"The second animal at the zoo is the \" + zoo_animals[1])\n",
        "  print (\"The third animal at the zoo is the \" + zoo_animals[2])\n",
        "  print (\"The fourth animal at the zoo is the \" + zoo_animals[3])\n",
        "\n",
        "#Replace\n",
        "zoo_animals = [\"pangolin\", \"cassowary\", \"sloth\", \"tiger\"]\n",
        "zoo_animals[2] = \"hyena\"\n",
        "\n",
        "#Important Index Notice: If we want to take 1st and 2nd items from list then its index are 0 and 1. And we cannot use [0:1] but [0:1]. We need to include one more index at last.\n",
        "suitcase = [\"sunglasses\", \"hat\", \"passport\", \"laptop\", \"suit\", \"shoes\"]\n",
        "# The first and second items (index zero and one)\n",
        "first = suitcase[0:2]\n",
        "# Third and fourth items (index two and three)\n",
        "middle = suitcase[2:4]\n",
        "# The last two items (index four and five)\n",
        "last = suitcase[4:6]\n",
        "\n",
        "#Adding\n",
        "suitcase.append(\"Kitty\")\n",
        "\n",
        "#Starting from and ending in\n",
        "animals = \"catdogfrog\"\n",
        "# The first three characters of animals\n",
        "cat = animals[:3]\n",
        "# From the seventh character to the end\n",
        "frog = animals[6:]\n",
        "\n",
        "#Maintaining Order\n",
        "animals = [\"aardvark\", \"badger\", \"duck\", \"emu\", \"fennec fox\"]\n",
        "duck_index = animals.index(\"duck\")# Use index() to find \"duck\"\n",
        "\n",
        "animals.insert(duck_index,\"cobra\")\n",
        "\n",
        "print (animals) # Observe what prints after the insert operation\n",
        "\n",
        "#Important: If you want to do something with every item in the list, you can use a for loop.\n",
        "my_list = [1,9,3,8,5,7]\n",
        "for number in my_list:\n",
        "  print (number*2)\n",
        "\n",
        "#Append,Sort and for loop\n",
        "#Iterate and generate a new list\n",
        "start_list = [5, 3, 1, 2, 4]\n",
        "square_list = []\n",
        "\n",
        "for number in start_list:\n",
        "  square_list.append(number**2)\n",
        "\n",
        "square_list.sort()\n",
        "\n",
        "print (square_list)\n",
        "\n",
        "#A dictionary is similar to a list, but you access values by looking up a key instead of an index. \n",
        "#A key can be any string or number.\n",
        "#Accessing dictionary values\n",
        "residents = {\"Puffin\" : 104, \"Sloth\" : 105, \"Burmese Python\" : 106}\n",
        "\n",
        "print (residents[\"Puffin\"]) # Prints Puffin's room number\n",
        "print (residents[\"Sloth\"])\n",
        "print (residents[\"Burmese Python\"])\n",
        "\n",
        "#New entries in dic\n",
        "#dict_name[new_key] = new_value\n",
        "menu = {} # Empty dictionary\n",
        "menu['Chicken Alfredo'] = 14.50 # Adding new key-value pair\n",
        "\n",
        "#Delete and change values\n",
        "#del dict_name[key_name]\n",
        "#dict_name[key] = new_value\n",
        "zoo_animals = { 'Unicorn' : 'Cotton Candy House',\n",
        "'Sloth' : 'Rainforest Exhibit',\n",
        "'Bengal Tiger' : 'Jungle House',\n",
        "'Atlantic Puffin' : 'Arctic Exhibit',\n",
        "'Rockhopper Penguin' : 'Arctic Exhibit'}\n",
        "\n",
        "del zoo_animals['Unicorn']\n",
        "zoo_animals['Rockhopper Penguin']='111111111'\n",
        "\n",
        "print (zoo_animals)\n",
        "\n",
        "#Remove first matching item from a list\n",
        "backpack = ['xylophone', 'dagger', 'tent', 'bread loaf','dagger']\n",
        "backpack.remove(\"dagger\")\n",
        "print (backpack)\n",
        "\n",
        "#A complete example\n",
        "inventory = {\n",
        "  'gold' : 500,\n",
        "  'pouch' : ['flint', 'twine', 'gemstone'], # Assigned a new list to 'pouch' key\n",
        "  'backpack' : ['xylophone','dagger', 'bedroll','bread loaf']\n",
        "}\n",
        "\n",
        "inventory['burlap bag'] = ['apple', 'small ruby', 'three-toed sloth']\n",
        "inventory['pouch'].sort() \n",
        "inventory['pocket']=['seashell','strange berry','lint']\n",
        "inventory['backpack'].sort()\n",
        "inventory['backpack'].remove('dagger')\n",
        "inventory['gold'] = inventory['gold'] + 50\n",
        "print(inventory)"
      ],
      "metadata": {
        "colab": {
          "base_uri": "https://localhost:8080/"
        },
        "id": "66yVcWrWbXGo",
        "outputId": "f5ad95e6-d6cc-4a67-8bb2-e6694607a450"
      },
      "execution_count": null,
      "outputs": [
        {
          "output_type": "stream",
          "name": "stdout",
          "text": [
            "The first animal at the zoo is the pangolin\n",
            "The second animal at the zoo is the cassowary\n",
            "The third animal at the zoo is the sloth\n",
            "The fourth animal at the zoo is the cat\n",
            "['aardvark', 'badger', 'cobra', 'duck', 'emu', 'fennec fox']\n",
            "2\n",
            "18\n",
            "6\n",
            "16\n",
            "10\n",
            "14\n",
            "[1, 4, 9, 16, 25]\n",
            "104\n",
            "105\n",
            "106\n",
            "{'Sloth': 'Rainforest Exhibit', 'Bengal Tiger': 'Jungle House', 'Atlantic Puffin': 'Arctic Exhibit', 'Rockhopper Penguin': '111111111'}\n",
            "['xylophone', 'tent', 'bread loaf', 'dagger']\n",
            "{'gold': 550, 'pouch': ['flint', 'gemstone', 'twine'], 'backpack': ['bedroll', 'bread loaf', 'xylophone'], 'burlap bag': ['apple', 'small ruby', 'three-toed sloth'], 'pocket': ['seashell', 'strange berry', 'lint']}\n"
          ]
        }
      ]
    },
    {
      "cell_type": "markdown",
      "source": [
        "#**_1st biological algorithm:_ `PatternCount(Text, Pattern)`**\n",
        "\n",
        "- 细菌细胞如何知道在更大的霍乱弧菌染色体中的这个短区域中开始复制，该染色体由超过一百万个核苷酸组成？\n",
        "\n",
        "- <strong>ori</strong>区域中必须有一些“隐藏消息” 命令单元格在此处开始复制。\n",
        "\n",
        "- 事实上，我们知道复制的起始是由<strong>DnaA</strong>介导的，<strong>DnaA</strong> 是一种与<strong>ori</strong>内 称为<strong>DnaA box</strong>的短片段结合的蛋白质。\n",
        "\n",
        "- 你可以想到脱氧核糖核酸框作为 DNA 序列中的一条消息，告诉DnaA：“在这里绑定！” 问题是如何在事先不知道它是什么样子的情况下找到这个隐藏的信息——你能找到它吗？换句话说，你能找到在ori中脱颖而出的东西吗？这个讨论引发了以下问题。"
      ],
      "metadata": {
        "id": "nETaIVCKIs4d"
      }
    },
    {
      "cell_type": "markdown",
      "source": [
        "<img src='https://drive.google.com/uc?id=1MIR4fxCUHcvFRSW3n5y_KRZ8ajy5O_uZ' width=\"500\"/>"
      ],
      "metadata": {
        "id": "jdSp1Nt8b9gb"
      }
    },
    {
      "cell_type": "code",
      "source": [
        "# Copy your PatternCount function from the previous step below this line\n",
        "def PatternCount(Text, Pattern):\n",
        "    count = 0\n",
        "    for i in range(len(Text)-len(Pattern)+1):\n",
        "        if Text[i:i+len(Pattern)] == Pattern:\n",
        "            count = count+1\n",
        "    return count\n",
        "\n",
        "# Now, set Text equal to the ori of Vibrio cholerae and Pattern equal to \"TGATCA\"\n",
        "A = \"GCGCG\"\n",
        "B = \"GCG\"\n",
        "# Finally, print the result of calling PatternCount on Text and Pattern.\n",
        "x = PatternCount(A,B)\n",
        "print(x)\n",
        "# Don't forget to use the notation print() with parentheses included!\n",
        "PatternCount(\"GACCATCAAAACTGATAAACTACTTAAAAATCAGT\",\"AAA\")"
      ],
      "metadata": {
        "colab": {
          "base_uri": "https://localhost:8080/"
        },
        "id": "MNeQcBfMCIu7",
        "outputId": "5d62f8a0-9624-4c64-93fb-564a82531c2a"
      },
      "execution_count": null,
      "outputs": [
        {
          "output_type": "stream",
          "name": "stdout",
          "text": [
            "2\n"
          ]
        },
        {
          "output_type": "execute_result",
          "data": {
            "text/plain": [
              "6"
            ]
          },
          "metadata": {},
          "execution_count": 4
        }
      ]
    },
    {
      "cell_type": "markdown",
      "source": [
        "#**_A rigorously computational problem_**\n",
        "Frequent Words Problem :\n",
        "- Find the most frequent k-mers in a string\n",
        "\n",
        "Input:\n",
        "- A string text and an integer k\n",
        "\n",
        "Output:\n",
        "- All frquent k-mers in text"
      ],
      "metadata": {
        "id": "CvohZTkKJQUo"
      }
    },
    {
      "cell_type": "code",
      "source": [
        "#FrequentWords function (along with all required subroutines)\n",
        "def FrequentWords(Text, k):\n",
        "    words = []\n",
        "    freq = FrequencyMap(Text, k)\n",
        "    m = max(freq.values())\n",
        "    for key in freq:\n",
        "        if freq[key]==m:\n",
        "            words.append(key)\n",
        "    return words\n",
        "#Required subroutines FrequencyMap function\n",
        "#A combination with PatternCount\n",
        "def FrequencyMap(Text, k):\n",
        "    freq = {}\n",
        "    n = len(Text)\n",
        "    for i in range(n-k+1):\n",
        "        Pattern = Text[i:i+k]\n",
        "        freq[Pattern] = 0\n",
        "        for i in range(len(Text)-len(Pattern)+1):\n",
        "            if Text[i:i+len(Pattern)]==Pattern:\n",
        "                freq[Pattern] = freq[Pattern] + 1\n",
        "\n",
        "    return freq\n",
        "# Now set Text equal to the Vibrio cholerae oriC and k equal to 10\n",
        "Text = \"ATCAATGATCAACGTAAGCTTCTAAGCATGATCAAGGTGCTCACACAGTTTATCCACAACCTGAGTGGATGACATCAAGATAGGTCGTTGTATCTCCTTCCTCTCGTACTCTCATGACCACGGAAAGATGATCAAGAGAGGATGATTTCTTGGCCATATCGCAATGAATACTTGTGACTTGTGCTTCCAATTGACATCTTCAGCGCCATATTGCGCTGGCCAAGGTGACGGAGCGGGATTACGAAAGCATGATCATGGCTGTTGTTCTGTTTATCTTGTTTTGACTGAGACTTGTTAGGATAGACGGTTTTTCATCACTGACTAGCCAAAGCCTTACTCTGCCTGACATCGACCGTAAATTGATAATGAATTTACATGCTTCCGCGACGATTTACCTCTTGATCATCGATCCGATTGAAGATCTTCAATTGTTAATTCTCTTGCCTCGACTCATAGCCATGATGAGCTCTTGATCATGTTTCCTTAACCCTCTATTTTTTACGGAAGAATGATCAAGCTGCTGCTCTTGATCATCGTTTC\"\n",
        "k = 10\n",
        "# Finally, print the result of calling FrequentWords on Text and k.\n",
        "print(FrequentWords(Text, k))\n",
        "print(FrequentWords(\"CGGAGGACTCTAGGTAACGCTTATCAGGTCCATAGGACATTCA\",3))"
      ],
      "metadata": {
        "colab": {
          "base_uri": "https://localhost:8080/"
        },
        "id": "j06X8hvmwD3U",
        "outputId": "82348411-d743-44bd-ce83-78f91bf13fb7"
      },
      "execution_count": null,
      "outputs": [
        {
          "output_type": "stream",
          "name": "stdout",
          "text": [
            "['CTCTTGATCA', 'TCTTGATCAT']\n",
            "['AGG']\n"
          ]
        }
      ]
    },
    {
      "cell_type": "markdown",
      "source": [
        "<strong>Recogonize rule:</strong>\n",
        "\n",
        "- Each DNA strand is read in the 5' → 3' direction, and the complementary strand runs in the opposite direction to the template strand."
      ],
      "metadata": {
        "id": "Gd66iJ4Ld0Oi"
      }
    },
    {
      "cell_type": "markdown",
      "source": [
        "<img src='https://drive.google.com/uc?id=1kxx_G1mPlSJjME8h-CdDiR-YlJ7y4Qk1' width=\"500\"/>"
      ],
      "metadata": {
        "id": "kI2sIpCMddR2"
      }
    },
    {
      "cell_type": "markdown",
      "source": [
        "#**_Reverse Complement Problem:_**\n",
        "Find the reverse complement of a DNA string.\n",
        "\n",
        "Input: \n",
        "\n",
        "- A DNA string Pattern.\n",
        "\n",
        "Output:\n",
        "\n",
        "- The reverse complement of Pattern."
      ],
      "metadata": {
        "id": "cwfkLzKcenOw"
      }
    },
    {
      "cell_type": "markdown",
      "source": [
        "####**top-down programming**\n",
        "\n",
        "为了将多个任务分开，让我们一次只做一个任务，我们将采用自上而下的编程方式，即从我们程序的最高层开始，将工作分成随后的小块。"
      ],
      "metadata": {
        "id": "EAeEBOtLfd2S"
      }
    },
    {
      "cell_type": "code",
      "source": [
        "# Input:  A DNA string Pattern\n",
        "# Output: The reverse complement of Pattern\n",
        "def ReverseComplement(Pattern):   \n",
        "    # your code here\n",
        "    Pattern = Reverse(Pattern) # reverse all letters in a string\n",
        "    Pattern = Complement(Pattern) # complement each letter in a string\n",
        "    return Pattern\n",
        "# Copy your Reverse() function here.\n",
        "def Reverse(Pattern):\n",
        "    # your code here\n",
        "    rev = \"\"\n",
        "    \n",
        "    for char in Pattern:\n",
        "        rev = char + rev\n",
        "    return rev\n",
        "# Copy your Complement() function here.\n",
        "def Complement(Pattern):\n",
        "    comp = \"\"\n",
        "    \n",
        "    for char in Pattern:\n",
        "        if char == \"A\":\n",
        "            comp_char = \"T\"\n",
        "        elif char == \"T\":\n",
        "            comp_char = \"A\"\n",
        "        elif char == \"G\":\n",
        "            comp_char = \"C\"\n",
        "        else:\n",
        "            comp_char = \"G\"\n",
        "            \n",
        "        comp = comp + comp_char \n",
        "\n",
        "        \n",
        "    return comp"
      ],
      "metadata": {
        "id": "somo4Bwm_LFj"
      },
      "execution_count": null,
      "outputs": []
    },
    {
      "cell_type": "markdown",
      "source": [
        "Pattern Matching Problem: Find all occurrences of a pattern in a string.\n",
        "     Input: Strings Pattern and Genome.\n",
        "     Output: All starting positions in Genome where Pattern appears as a substring."
      ],
      "metadata": {
        "id": "HXVpKMMl_jcg"
      }
    },
    {
      "cell_type": "code",
      "source": [
        "# Copy your PatternCount function below here\n",
        "def PatternCount(Text, Pattern):\n",
        "    count = 0\n",
        "    for i in range(len(Text)-len(Pattern)+1):\n",
        "        if Text[i:i+len(Pattern)] == Pattern:\n",
        "            count = count+1\n",
        "    return count\n",
        "\n",
        "# On the following line, create a variable called Text that is equal to the oriC region from T petrophila\n",
        "Text = \"aactctatacctcctttttgtcgaatttgtgtgatttatagagaaaatcttattaactgaaactaaaatggtaggtttggtggtaggttttgtgtacattttgtagtatctgatttttaattacataccgtatattgtattaaattgacgaacaattgcatggaattgaatatatgcaaaacaaacctaccaccaaactctgtattgaccattttaggacaacttcagggtggtaggtttctgaagctctcatcaatagactattttagtctttacaaacaatattaccgttcagattcaagattctacaacgctgttttaatgggcgttgcagaaaacttaccacctaaaatccagtatccaagccgatttcagagaaacctaccacttacctaccacttacctaccacccgggtggtaagttgcagacattattaaaaacctcatcagaagcttgttcaaaaatttcaatactcgaaacctaccacctgcgtcccctattatttactactactaataatagcagtataattgatctga\"\n",
        "Text = Text.upper()\n",
        "\n",
        "# On the following line, create a variable called count_1 that is equal to the number of times\n",
        "# that \"ATGATCAAG\" occurs in Text.\n",
        "count_1 = PatternCount(Text, \"ATGATCAAG\")\n",
        "# On the following line, create a variable called count_2 that is equal to the number of times\n",
        "# that \"CTTGATCAT\" occurs in Text. \n",
        "count_2 = PatternCount(Text, \"CTTGATCAT\")\n",
        "# Finally, print the sum of count_1 and count_2\n",
        "print(count_1+count_2)"
      ],
      "metadata": {
        "colab": {
          "base_uri": "https://localhost:8080/"
        },
        "id": "G-dN29LujePy",
        "outputId": "38a41da0-251c-4a89-bacd-c115ed16a291"
      },
      "execution_count": null,
      "outputs": [
        {
          "output_type": "stream",
          "name": "stdout",
          "text": [
            "0\n"
          ]
        }
      ]
    }
  ]
}